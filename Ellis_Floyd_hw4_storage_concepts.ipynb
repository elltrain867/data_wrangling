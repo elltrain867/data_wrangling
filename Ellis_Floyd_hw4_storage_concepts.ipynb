{
  "nbformat": 4,
  "nbformat_minor": 0,
  "metadata": {
    "colab": {
      "provenance": [],
      "authorship_tag": "ABX9TyPSJCxqdFg20NbY/PUeteB7",
      "include_colab_link": true
    },
    "kernelspec": {
      "name": "python3",
      "display_name": "Python 3"
    },
    "language_info": {
      "name": "python"
    }
  },
  "cells": [
    {
      "cell_type": "markdown",
      "metadata": {
        "id": "view-in-github",
        "colab_type": "text"
      },
      "source": [
        "<a href=\"https://colab.research.google.com/github/elltrain867/data_wrangling/blob/main/Ellis_Floyd_hw4_storage_concepts.ipynb\" target=\"_parent\"><img src=\"https://colab.research.google.com/assets/colab-badge.svg\" alt=\"Open In Colab\"/></a>"
      ]
    },
    {
      "cell_type": "code",
      "execution_count": null,
      "metadata": {
        "id": "zvsS46eGomjz"
      },
      "outputs": [],
      "source": [
        "# database\n",
        "import sqlite3"
      ]
    },
    {
      "cell_type": "code",
      "source": [
        "# store data\n",
        "\n",
        "# create a todo list table\n",
        "def create_todo_table(conn):\n",
        "      cursor = conn.cursor()\n",
        "      cursor.execute('''CREATE TABLE IF NOT EXISTS todos (id INTEGER PRIMARY KEY, task TEXT NOT NULL, completed INTEGER DEFAULT 0)''')\n",
        "      conn.commit()"
      ],
      "metadata": {
        "id": "jvitkBb4o5DX"
      },
      "execution_count": null,
      "outputs": []
    },
    {
      "cell_type": "code",
      "source": [
        "# interact/manipulate\n",
        "\n",
        "# add a new task to the todo list\n",
        "def add_task(conn, task):\n",
        "    cursor = conn.cursor()\n",
        "    cursor.execute('INSERT INTO todos (task) VALUES (?)', (task,))\n",
        "    conn.commit()\n",
        "\n",
        "# update the completion status of a task, 1 complete, 0 not complete\n",
        "def update_task_status(conn, task_id, completed):\n",
        "    cursor = conn.cursor()\n",
        "    cursor.execute('UPDATE todos SET completed = ? WHERE id = ?', (completed, task_id))\n",
        "    conn.commit()\n",
        "\n",
        "# delete a task from the todo list\n",
        "def delete_task(conn, task_id):\n",
        "    cursor = conn.cursor()\n",
        "    cursor.execute('DELETE FROM todos WHERE id = ?', (task_id,))\n",
        "    conn.commit()"
      ],
      "metadata": {
        "id": "O_vAOiX6phd-"
      },
      "execution_count": null,
      "outputs": []
    },
    {
      "cell_type": "code",
      "source": [
        "# retrieve data\n",
        "\n",
        "# retrieve/view all of the tasks in the todo list\n",
        "def get_tasks(conn):\n",
        "      cursor = conn.cursor()\n",
        "      cursor.execute('SELECT * FROM todos')\n",
        "      tasks = cursor.fetchall()\n",
        "      return tasks"
      ],
      "metadata": {
        "id": "kkcXY3W2qqSV"
      },
      "execution_count": null,
      "outputs": []
    },
    {
      "cell_type": "code",
      "source": [
        "# Main function\n",
        "def main():\n",
        "\n",
        "    # connnect to the SQLite database\n",
        "    conn = sqlite3.connect('todo.db')\n",
        "\n",
        "    # create the todo list table\n",
        "    create_todo_table(conn)\n",
        "\n",
        "    # loop until you exit\n",
        "    while True:\n",
        "        # menu interface for tasks\n",
        "        print(\"\\nTODO LIST\")\n",
        "        print(\"1. Add Task\")\n",
        "        print(\"2. View Tasks\")\n",
        "        print(\"3. Update Task Status\")\n",
        "        print(\"4. Delete Task\")\n",
        "        print(\"5. Exit\")\n",
        "\n",
        "        choice = input(\"Enter your choice: \")\n",
        "\n",
        "        if choice == '1':\n",
        "            task = input(\"Enter task: \")\n",
        "            add_task(conn, task)\n",
        "            print(\"Task added successfully!\")\n",
        "\n",
        "        elif choice == '2':\n",
        "            tasks = get_tasks(conn)\n",
        "            if not tasks:\n",
        "                print(\"No tasks found.\")\n",
        "            else:\n",
        "                for task in tasks:\n",
        "                    print(f\"{task[0]}. {task[1]} - {'Completed' if task [2] else 'Incomplete'}\")\n",
        "\n",
        "        elif choice == '3':\n",
        "            task_id = int(input(\"Enter task ID: \"))\n",
        "            completed = int(input(\"Enter completion status (1 for completed, 0 for incomplete): \"))\n",
        "            update_task_status(conn, task_id, completed)\n",
        "            print(\"Task status updated successfully!\")\n",
        "\n",
        "        elif choice == '4':\n",
        "            task_id = int(input(\"Enter task ID: \"))\n",
        "            delete_task(conn, task_id)\n",
        "            print(\"Task deleted successfully!\")\n",
        "\n",
        "        elif choice == '5':\n",
        "            print(\"Exiting...\")\n",
        "            break\n",
        "\n",
        "        else:\n",
        "            print(\"Invalid choice. Please try again.\")\n",
        "\n",
        "    # close the database connection\n",
        "    conn.close()\n",
        "\n",
        "\n"
      ],
      "metadata": {
        "id": "c9XpCY6grEB9"
      },
      "execution_count": null,
      "outputs": []
    },
    {
      "cell_type": "code",
      "source": [
        "if __name__ == \"__main__\":\n",
        "    main()"
      ],
      "metadata": {
        "colab": {
          "base_uri": "https://localhost:8080/"
        },
        "id": "GtiMVEj1usD_",
        "outputId": "4ed44fee-5a92-4265-bb9b-0a1dcc4e7dcb"
      },
      "execution_count": null,
      "outputs": [
        {
          "output_type": "stream",
          "name": "stdout",
          "text": [
            "\n",
            "TODO LIST\n",
            "1. Add Task\n",
            "2. View Tasks\n",
            "3. Update Task Status\n",
            "4. Delete Task\n",
            "5. Exit\n",
            "Enter your choice: 1\n",
            "Enter task: Clean\n",
            "Task added successfully!\n",
            "\n",
            "TODO LIST\n",
            "1. Add Task\n",
            "2. View Tasks\n",
            "3. Update Task Status\n",
            "4. Delete Task\n",
            "5. Exit\n",
            "Enter your choice: 1\n",
            "Enter task: Shop\n",
            "Task added successfully!\n",
            "\n",
            "TODO LIST\n",
            "1. Add Task\n",
            "2. View Tasks\n",
            "3. Update Task Status\n",
            "4. Delete Task\n",
            "5. Exit\n",
            "Enter your choice: 2\n",
            "1. Clean Car - Incomplete\n",
            "2. Grocery Shopping - Incomplete\n",
            "3. Clean - Incomplete\n",
            "4. Shop - Incomplete\n",
            "\n",
            "TODO LIST\n",
            "1. Add Task\n",
            "2. View Tasks\n",
            "3. Update Task Status\n",
            "4. Delete Task\n",
            "5. Exit\n",
            "Enter your choice: 3\n",
            "Enter task ID: 1\n",
            "Enter completion status (1 for completed, 0 for incomplete): 1\n",
            "Task status updated successfully!\n",
            "\n",
            "TODO LIST\n",
            "1. Add Task\n",
            "2. View Tasks\n",
            "3. Update Task Status\n",
            "4. Delete Task\n",
            "5. Exit\n",
            "Enter your choice: 2\n",
            "1. Clean Car - Completed\n",
            "2. Grocery Shopping - Incomplete\n",
            "3. Clean - Incomplete\n",
            "4. Shop - Incomplete\n",
            "\n",
            "TODO LIST\n",
            "1. Add Task\n",
            "2. View Tasks\n",
            "3. Update Task Status\n",
            "4. Delete Task\n",
            "5. Exit\n",
            "Enter your choice: 4\n",
            "Enter task ID: 4\n",
            "Task deleted successfully!\n",
            "\n",
            "TODO LIST\n",
            "1. Add Task\n",
            "2. View Tasks\n",
            "3. Update Task Status\n",
            "4. Delete Task\n",
            "5. Exit\n",
            "Enter your choice: 2\n",
            "1. Clean Car - Completed\n",
            "2. Grocery Shopping - Incomplete\n",
            "3. Clean - Incomplete\n",
            "\n",
            "TODO LIST\n",
            "1. Add Task\n",
            "2. View Tasks\n",
            "3. Update Task Status\n",
            "4. Delete Task\n",
            "5. Exit\n",
            "Enter your choice: 5\n",
            "Exiting...\n"
          ]
        }
      ]
    }
  ]
}